{
 "cells": [
  {
   "cell_type": "code",
   "execution_count": 33,
   "metadata": {
    "collapsed": true
   },
   "outputs": [],
   "source": [
    "# Dependencies\n",
    "import pandas as pd"
   ]
  },
  {
   "cell_type": "code",
   "execution_count": 34,
   "metadata": {
    "collapsed": true
   },
   "outputs": [],
   "source": [
    "# Store filepath in a variable\n",
    "df = \"cities.csv\""
   ]
  },
  {
   "cell_type": "code",
   "execution_count": 35,
   "metadata": {
    "collapsed": true
   },
   "outputs": [],
   "source": [
    "# Read our Data file with the pandas library\n",
    "# Not every CSV requires an encoding, but be aware this can come up\n",
    "df_pd = pd.read_csv(file_one, encoding=\"ISO-8859-1\")"
   ]
  },
  {
   "cell_type": "code",
   "execution_count": 36,
   "metadata": {},
   "outputs": [
    {
     "output_type": "execute_result",
     "data": {
      "text/plain": [
       "                 City      Lat       Lng   Temp  Humidity  Cloudiness   Wind  \\\n",
       "0          vila velha -20.3297  -40.2925  86.00        66          20  12.66   \n",
       "1              albany  42.6001  -73.9662  37.40        35          75  13.80   \n",
       "2    tiruvidaimarudur  10.9960   79.4521  68.00        89           0   7.40   \n",
       "3             ushuaia -54.8000  -68.3000  55.40        67          20  21.85   \n",
       "4              bethel  41.3712  -73.4140  42.80        31          40  13.80   \n",
       "..                ...      ...       ...    ...       ...         ...    ...   \n",
       "558       san vicente -26.6167  -54.1333  79.93        37           0   6.53   \n",
       "559          tessalit  20.1986    1.0114  75.96        17          71   9.46   \n",
       "560             chara  56.9064  118.2631 -14.46        73         100   0.54   \n",
       "561              buin -33.7333  -70.7500  71.60        60           0   8.05   \n",
       "562         coihaique -45.5752  -72.0662  77.00        33          75   4.61   \n",
       "\n",
       "    Country        Date  \n",
       "0        BR  1612639871  \n",
       "1        US  1612639930  \n",
       "2        IN  1612639930  \n",
       "3        AR  1612639930  \n",
       "4        US  1612639660  \n",
       "..      ...         ...  \n",
       "558      AR  1612639994  \n",
       "559      ML  1612639994  \n",
       "560      RU  1612639705  \n",
       "561      CL  1612639994  \n",
       "562      CL  1612639988  \n",
       "\n",
       "[563 rows x 9 columns]"
      ],
      "text/html": "<div>\n<style scoped>\n    .dataframe tbody tr th:only-of-type {\n        vertical-align: middle;\n    }\n\n    .dataframe tbody tr th {\n        vertical-align: top;\n    }\n\n    .dataframe thead th {\n        text-align: right;\n    }\n</style>\n<table border=\"1\" class=\"dataframe\">\n  <thead>\n    <tr style=\"text-align: right;\">\n      <th></th>\n      <th>City</th>\n      <th>Lat</th>\n      <th>Lng</th>\n      <th>Temp</th>\n      <th>Humidity</th>\n      <th>Cloudiness</th>\n      <th>Wind</th>\n      <th>Country</th>\n      <th>Date</th>\n    </tr>\n  </thead>\n  <tbody>\n    <tr>\n      <th>0</th>\n      <td>vila velha</td>\n      <td>-20.3297</td>\n      <td>-40.2925</td>\n      <td>86.00</td>\n      <td>66</td>\n      <td>20</td>\n      <td>12.66</td>\n      <td>BR</td>\n      <td>1612639871</td>\n    </tr>\n    <tr>\n      <th>1</th>\n      <td>albany</td>\n      <td>42.6001</td>\n      <td>-73.9662</td>\n      <td>37.40</td>\n      <td>35</td>\n      <td>75</td>\n      <td>13.80</td>\n      <td>US</td>\n      <td>1612639930</td>\n    </tr>\n    <tr>\n      <th>2</th>\n      <td>tiruvidaimarudur</td>\n      <td>10.9960</td>\n      <td>79.4521</td>\n      <td>68.00</td>\n      <td>89</td>\n      <td>0</td>\n      <td>7.40</td>\n      <td>IN</td>\n      <td>1612639930</td>\n    </tr>\n    <tr>\n      <th>3</th>\n      <td>ushuaia</td>\n      <td>-54.8000</td>\n      <td>-68.3000</td>\n      <td>55.40</td>\n      <td>67</td>\n      <td>20</td>\n      <td>21.85</td>\n      <td>AR</td>\n      <td>1612639930</td>\n    </tr>\n    <tr>\n      <th>4</th>\n      <td>bethel</td>\n      <td>41.3712</td>\n      <td>-73.4140</td>\n      <td>42.80</td>\n      <td>31</td>\n      <td>40</td>\n      <td>13.80</td>\n      <td>US</td>\n      <td>1612639660</td>\n    </tr>\n    <tr>\n      <th>...</th>\n      <td>...</td>\n      <td>...</td>\n      <td>...</td>\n      <td>...</td>\n      <td>...</td>\n      <td>...</td>\n      <td>...</td>\n      <td>...</td>\n      <td>...</td>\n    </tr>\n    <tr>\n      <th>558</th>\n      <td>san vicente</td>\n      <td>-26.6167</td>\n      <td>-54.1333</td>\n      <td>79.93</td>\n      <td>37</td>\n      <td>0</td>\n      <td>6.53</td>\n      <td>AR</td>\n      <td>1612639994</td>\n    </tr>\n    <tr>\n      <th>559</th>\n      <td>tessalit</td>\n      <td>20.1986</td>\n      <td>1.0114</td>\n      <td>75.96</td>\n      <td>17</td>\n      <td>71</td>\n      <td>9.46</td>\n      <td>ML</td>\n      <td>1612639994</td>\n    </tr>\n    <tr>\n      <th>560</th>\n      <td>chara</td>\n      <td>56.9064</td>\n      <td>118.2631</td>\n      <td>-14.46</td>\n      <td>73</td>\n      <td>100</td>\n      <td>0.54</td>\n      <td>RU</td>\n      <td>1612639705</td>\n    </tr>\n    <tr>\n      <th>561</th>\n      <td>buin</td>\n      <td>-33.7333</td>\n      <td>-70.7500</td>\n      <td>71.60</td>\n      <td>60</td>\n      <td>0</td>\n      <td>8.05</td>\n      <td>CL</td>\n      <td>1612639994</td>\n    </tr>\n    <tr>\n      <th>562</th>\n      <td>coihaique</td>\n      <td>-45.5752</td>\n      <td>-72.0662</td>\n      <td>77.00</td>\n      <td>33</td>\n      <td>75</td>\n      <td>4.61</td>\n      <td>CL</td>\n      <td>1612639988</td>\n    </tr>\n  </tbody>\n</table>\n<p>563 rows × 9 columns</p>\n</div>"
     },
     "metadata": {},
     "execution_count": 36
    }
   ],
   "source": [
    "# Show just the header\n",
    "df_pd = df_pd[[\"City\",\"Lat\",\"Lng\",\"Temp\",\"Humidity\",\"Cloudiness\",\"Wind\",\"Country\",\"Date\"]]\n",
    "df_pd"
   ]
  },
  {
   "cell_type": "code",
   "execution_count": 37,
   "metadata": {},
   "outputs": [],
   "source": [
    "cities_table_df = df_pd.to_html()"
   ]
  },
  {
   "cell_type": "code",
   "execution_count": 38,
   "metadata": {},
   "outputs": [],
   "source": [
    "text_file = open(\"cities_table_df\", \"w\")\n",
    "text_file.write(cities_table_df)\n",
    "text_file.close()"
   ]
  },
  {
   "cell_type": "code",
   "execution_count": 7,
   "metadata": {},
   "outputs": [
    {
     "data": {
      "text/html": [
       "<div>\n",
       "<style>\n",
       "    .dataframe thead tr:only-child th {\n",
       "        text-align: right;\n",
       "    }\n",
       "\n",
       "    .dataframe thead th {\n",
       "        text-align: left;\n",
       "    }\n",
       "\n",
       "    .dataframe tbody tr th {\n",
       "        vertical-align: top;\n",
       "    }\n",
       "</style>\n",
       "<table border=\"1\" class=\"dataframe\">\n",
       "  <thead>\n",
       "    <tr style=\"text-align: right;\">\n",
       "      <th></th>\n",
       "      <th>id</th>\n",
       "      <th>first_name</th>\n",
       "      <th>last_name</th>\n",
       "      <th>email</th>\n",
       "      <th>gender</th>\n",
       "    </tr>\n",
       "  </thead>\n",
       "  <tbody>\n",
       "    <tr>\n",
       "      <th>0</th>\n",
       "      <td>1</td>\n",
       "      <td>David</td>\n",
       "      <td>Jordan</td>\n",
       "      <td>djordan0@home.pl</td>\n",
       "      <td>Male</td>\n",
       "    </tr>\n",
       "    <tr>\n",
       "      <th>1</th>\n",
       "      <td>2</td>\n",
       "      <td>Stephen</td>\n",
       "      <td>Riley</td>\n",
       "      <td>sriley1@hugedomains.com</td>\n",
       "      <td>Male</td>\n",
       "    </tr>\n",
       "    <tr>\n",
       "      <th>2</th>\n",
       "      <td>3</td>\n",
       "      <td>Evelyn</td>\n",
       "      <td>Grant</td>\n",
       "      <td>egrant2@livejournal.com</td>\n",
       "      <td>Female</td>\n",
       "    </tr>\n",
       "    <tr>\n",
       "      <th>3</th>\n",
       "      <td>4</td>\n",
       "      <td>Joe</td>\n",
       "      <td>Mendoza</td>\n",
       "      <td>jmendoza3@un.org</td>\n",
       "      <td>Male</td>\n",
       "    </tr>\n",
       "    <tr>\n",
       "      <th>4</th>\n",
       "      <td>5</td>\n",
       "      <td>Benjamin</td>\n",
       "      <td>Rodriguez</td>\n",
       "      <td>brodriguez4@elpais.com</td>\n",
       "      <td>Male</td>\n",
       "    </tr>\n",
       "  </tbody>\n",
       "</table>\n",
       "</div>"
      ],
      "text/plain": [
       "   id first_name  last_name                    email  gender\n",
       "0   1      David     Jordan         djordan0@home.pl    Male\n",
       "1   2    Stephen      Riley  sriley1@hugedomains.com    Male\n",
       "2   3     Evelyn      Grant  egrant2@livejournal.com  Female\n",
       "3   4        Joe    Mendoza         jmendoza3@un.org    Male\n",
       "4   5   Benjamin  Rodriguez   brodriguez4@elpais.com    Male"
      ]
     },
     "execution_count": 7,
     "metadata": {},
     "output_type": "execute_result"
    }
   ],
   "source": []
  },
  {
   "cell_type": "code",
   "execution_count": 8,
   "metadata": {
    "collapsed": true
   },
   "outputs": [],
   "source": [
    "# Export file as a CSV, without the Pandas index, but with the header\n",
    "file_one_df.to_"
   ]
  }
 ],
 "metadata": {
  "anaconda-cloud": {},
  "kernelspec": {
   "display_name": "Python 3",
   "language": "python",
   "name": "python3"
  },
  "language_info": {
   "codemirror_mode": {
    "name": "ipython",
    "version": 3
   },
   "file_extension": ".py",
   "mimetype": "text/x-python",
   "name": "python",
   "nbconvert_exporter": "python",
   "pygments_lexer": "ipython3",
   "version": "3.8.3-final"
  }
 },
 "nbformat": 4,
 "nbformat_minor": 2
}